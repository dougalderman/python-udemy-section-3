{
 "cells": [
  {
   "cell_type": "code",
   "execution_count": 123,
   "metadata": {
    "collapsed": false
   },
   "outputs": [
   ],
   "source": [
    "#Data\n",
    "revenue = [14574.49, 7606.46, 8611.41, 9175.41, 8058.65, 8105.44, 11496.28, 9766.09, 10305.32, 14379.96, 10713.97, 15433.50]\n",
    "expenses = [12051.82, 5695.07, 12319.20, 12089.72, 8658.57, 840.20, 3285.73, 5821.12, 6976.93, 16618.61, 10054.37, 3803.96]"
   ]
  },
  {
   "cell_type": "code",
   "execution_count": 124,
   "metadata": {
    "collapsed": false
   },
   "outputs": [
   ],
   "source": [
    "#Profit for each month"
   ]
  },
  {
   "cell_type": "code",
   "execution_count": 125,
   "metadata": {
    "collapsed": false
   },
   "outputs": [
   ],
   "source": [
    "#Profit = revenue - expenses"
   ]
  },
  {
   "cell_type": "code",
   "execution_count": 126,
   "metadata": {
    "collapsed": false
   },
   "outputs": [
   ],
   "source": [
    "profit = []"
   ]
  },
  {
   "cell_type": "code",
   "execution_count": 127,
   "metadata": {
    "collapsed": false
   },
   "outputs": [
    {
     "name": "stdout",
     "output_type": "stream",
     "text": [
      "12\n"
     ]
    }
   ],
   "source": [
    "print(len(revenue))"
   ]
  },
  {
   "cell_type": "code",
   "execution_count": 128,
   "metadata": {
    "collapsed": false
   },
   "outputs": [
    {
     "data": {
      "text/plain": [
       "14574.49"
      ]
     },
     "execution_count": 128,
     "metadata": {
     },
     "output_type": "execute_result"
    }
   ],
   "source": [
    "revenue[0]"
   ]
  },
  {
   "cell_type": "code",
   "execution_count": 129,
   "metadata": {
    "collapsed": false
   },
   "outputs": [
    {
     "ename": "IndexError",
     "evalue": "list index out of range",
     "output_type": "error",
     "traceback": [
      "\u001b[0;31m---------------------------------------------------------------------------\u001b[0m",
      "\u001b[0;31mIndexError\u001b[0m                                Traceback (most recent call last)",
      "\u001b[0;32m/tmp/ipykernel_1622/1193949182.py\u001b[0m in \u001b[0;36m<cell line: 1>\u001b[0;34m()\u001b[0m\n\u001b[0;32m----> 1\u001b[0;31m \u001b[0mrevenue\u001b[0m\u001b[0;34m[\u001b[0m\u001b[0;36m12\u001b[0m\u001b[0;34m]\u001b[0m\u001b[0;34m\u001b[0m\u001b[0;34m\u001b[0m\u001b[0m\n\u001b[0m",
      "\u001b[0;31mIndexError\u001b[0m: list index out of range"
     ]
    }
   ],
   "source": [
    "revenue[12]"
   ]
  },
  {
   "cell_type": "code",
   "execution_count": 130,
   "metadata": {
    "collapsed": false
   },
   "outputs": [
    {
     "data": {
      "text/plain": [
       "15433.5"
      ]
     },
     "execution_count": 130,
     "metadata": {
     },
     "output_type": "execute_result"
    }
   ],
   "source": [
    "revenue[11]"
   ]
  },
  {
   "cell_type": "code",
   "execution_count": 131,
   "metadata": {
    "collapsed": false
   },
   "outputs": [
   ],
   "source": [
    "for i in range(0, len(revenue)):\n",
    "    profit.append(revenue[i] - expenses[i])"
   ]
  },
  {
   "cell_type": "code",
   "execution_count": 132,
   "metadata": {
    "collapsed": false
   },
   "outputs": [
    {
     "data": {
      "text/plain": [
       "[2522.67,\n",
       " 1911.3900000000003,\n",
       " -3707.790000000001,\n",
       " -2914.3099999999995,\n",
       " -599.9200000000001,\n",
       " 7265.24,\n",
       " 8210.550000000001,\n",
       " 3944.9700000000003,\n",
       " 3328.3899999999994,\n",
       " -2238.6500000000015,\n",
       " 659.5999999999985,\n",
       " 11629.54]"
      ]
     },
     "execution_count": 132,
     "metadata": {
     },
     "output_type": "execute_result"
    }
   ],
   "source": [
    "profit"
   ]
  },
  {
   "cell_type": "code",
   "execution_count": 133,
   "metadata": {
    "collapsed": false
   },
   "outputs": [
   ],
   "source": [
    "#Format profit per specs"
   ]
  },
  {
   "cell_type": "code",
   "execution_count": 134,
   "metadata": {
    "collapsed": false
   },
   "outputs": [
   ],
   "source": [
    "formatted_profit = []"
   ]
  },
  {
   "cell_type": "code",
   "execution_count": 135,
   "metadata": {
    "collapsed": false
   },
   "outputs": [
   ],
   "source": [
    "for j in range(0, len(profit)):\n",
    "    formatted_profit.append(\"$\" + \"%.0f\" % (profit[j]/1000) + \"k\")"
   ]
  },
  {
   "cell_type": "code",
   "execution_count": 136,
   "metadata": {
    "collapsed": false
   },
   "outputs": [
    {
     "data": {
      "text/plain": [
       "['$3k',\n",
       " '$2k',\n",
       " '$-4k',\n",
       " '$-3k',\n",
       " '$-1k',\n",
       " '$7k',\n",
       " '$8k',\n",
       " '$4k',\n",
       " '$3k',\n",
       " '$-2k',\n",
       " '$1k',\n",
       " '$12k']"
      ]
     },
     "execution_count": 136,
     "metadata": {
     },
     "output_type": "execute_result"
    }
   ],
   "source": [
    "formatted_profit"
   ]
  },
  {
   "cell_type": "markdown",
   "metadata": {
    "collapsed": false
   },
   "source": [
    "---"
   ]
  },
  {
   "cell_type": "code",
   "execution_count": 137,
   "metadata": {
    "collapsed": false
   },
   "outputs": [
   ],
   "source": [
    "#Profit after tax"
   ]
  },
  {
   "cell_type": "code",
   "execution_count": 138,
   "metadata": {
    "collapsed": false
   },
   "outputs": [
   ],
   "source": [
    "#Profit after tax = Profit - 0.3 * Profit"
   ]
  },
  {
   "cell_type": "code",
   "execution_count": 139,
   "metadata": {
    "collapsed": false
   },
   "outputs": [
   ],
   "source": [
    "profit_after_tax = []"
   ]
  },
  {
   "cell_type": "code",
   "execution_count": 140,
   "metadata": {
    "collapsed": false
   },
   "outputs": [
   ],
   "source": [
    "for k in range(0, len(profit)):\n",
    "    profit_after_tax.append(profit[k] - (profit[k] * 0.3))"
   ]
  },
  {
   "cell_type": "code",
   "execution_count": 141,
   "metadata": {
    "collapsed": false
   },
   "outputs": [
    {
     "data": {
      "text/plain": [
       "[1765.8690000000001,\n",
       " 1337.9730000000004,\n",
       " -2595.4530000000004,\n",
       " -2040.0169999999998,\n",
       " -419.9440000000001,\n",
       " 5085.668,\n",
       " 5747.385,\n",
       " 2761.4790000000003,\n",
       " 2329.8729999999996,\n",
       " -1567.0550000000012,\n",
       " 461.719999999999,\n",
       " 8140.678000000001]"
      ]
     },
     "execution_count": 141,
     "metadata": {
     },
     "output_type": "execute_result"
    }
   ],
   "source": [
    "profit_after_tax"
   ]
  },
  {
   "cell_type": "code",
   "execution_count": 142,
   "metadata": {
    "collapsed": false
   },
   "outputs": [
   ],
   "source": [
    "#Format profit after tax per specs"
   ]
  },
  {
   "cell_type": "code",
   "execution_count": 143,
   "metadata": {
    "collapsed": false
   },
   "outputs": [
   ],
   "source": [
    "formatted_profit_after_tax = []"
   ]
  },
  {
   "cell_type": "code",
   "execution_count": 144,
   "metadata": {
    "collapsed": false
   },
   "outputs": [
   ],
   "source": [
    "for l in range(0, len(profit_after_tax)):\n",
    "    formatted_profit_after_tax.append(\"$\" + \"%.0f\" % (profit_after_tax[l]/1000) + \"k\")"
   ]
  },
  {
   "cell_type": "code",
   "execution_count": 145,
   "metadata": {
    "collapsed": false
   },
   "outputs": [
    {
     "data": {
      "text/plain": [
       "['$2k',\n",
       " '$1k',\n",
       " '$-3k',\n",
       " '$-2k',\n",
       " '$-0k',\n",
       " '$5k',\n",
       " '$6k',\n",
       " '$3k',\n",
       " '$2k',\n",
       " '$-2k',\n",
       " '$0k',\n",
       " '$8k']"
      ]
     },
     "execution_count": 145,
     "metadata": {
     },
     "output_type": "execute_result"
    }
   ],
   "source": [
    "formatted_profit_after_tax"
   ]
  },
  {
   "cell_type": "markdown",
   "metadata": {
    "collapsed": false
   },
   "source": [
    "---"
   ]
  },
  {
   "cell_type": "code",
   "execution_count": 146,
   "metadata": {
    "collapsed": false
   },
   "outputs": [
   ],
   "source": [
    "#Profit margin"
   ]
  },
  {
   "cell_type": "code",
   "execution_count": 147,
   "metadata": {
    "collapsed": false
   },
   "outputs": [
   ],
   "source": [
    "#Profit margin = Profit after tax / revenue"
   ]
  },
  {
   "cell_type": "code",
   "execution_count": 148,
   "metadata": {
    "collapsed": false
   },
   "outputs": [
   ],
   "source": [
    "profit_margin = []"
   ]
  },
  {
   "cell_type": "code",
   "execution_count": 149,
   "metadata": {
    "collapsed": false
   },
   "outputs": [
   ],
   "source": [
    "for m in range(0, len(profit_after_tax)):\n",
    "    profit_margin.append(profit_after_tax[m]/revenue[m])"
   ]
  },
  {
   "cell_type": "code",
   "execution_count": 150,
   "metadata": {
    "collapsed": false
   },
   "outputs": [
    {
     "data": {
      "text/plain": [
       "[0.1211616324138958,\n",
       " 0.17589956431769843,\n",
       " -0.3013969837692086,\n",
       " -0.22233524169492153,\n",
       " -0.052110961513404865,\n",
       " 0.6274388558795081,\n",
       " 0.49993432658216397,\n",
       " 0.2827619856052934,\n",
       " 0.2260844884001661,\n",
       " -0.10897492065346505,\n",
       " 0.04309513653668986,\n",
       " 0.5274680403019406]"
      ]
     },
     "execution_count": 150,
     "metadata": {
     },
     "output_type": "execute_result"
    }
   ],
   "source": [
    "profit_margin"
   ]
  },
  {
   "cell_type": "code",
   "execution_count": 151,
   "metadata": {
    "collapsed": false
   },
   "outputs": [
   ],
   "source": [
    "#Format profit margin per specs"
   ]
  },
  {
   "cell_type": "code",
   "execution_count": 152,
   "metadata": {
    "collapsed": false
   },
   "outputs": [
   ],
   "source": [
    "formatted_profit_margin = []"
   ]
  },
  {
   "cell_type": "code",
   "execution_count": 153,
   "metadata": {
    "collapsed": false
   },
   "outputs": [
   ],
   "source": [
    "for n in range(0, len(profit_margin)):\n",
    "    formatted_profit_margin.append(\"%.0f\" % (profit_margin[n]*100) + \"%\")"
   ]
  },
  {
   "cell_type": "code",
   "execution_count": 154,
   "metadata": {
    "collapsed": false
   },
   "outputs": [
    {
     "data": {
      "text/plain": [
       "['12%',\n",
       " '18%',\n",
       " '-30%',\n",
       " '-22%',\n",
       " '-5%',\n",
       " '63%',\n",
       " '50%',\n",
       " '28%',\n",
       " '23%',\n",
       " '-11%',\n",
       " '4%',\n",
       " '53%']"
      ]
     },
     "execution_count": 154,
     "metadata": {
     },
     "output_type": "execute_result"
    }
   ],
   "source": [
    "formatted_profit_margin"
   ]
  },
  {
   "cell_type": "markdown",
   "metadata": {
    "collapsed": false
   },
   "source": [
    "---\n"
   ]
  },
  {
   "cell_type": "code",
   "execution_count": 155,
   "metadata": {
    "collapsed": false
   },
   "outputs": [
   ],
   "source": [
    "#Good months"
   ]
  },
  {
   "cell_type": "code",
   "execution_count": 156,
   "metadata": {
    "collapsed": false
   },
   "outputs": [
    {
     "data": {
      "text/plain": [
       "[1765.8690000000001,\n",
       " 1337.9730000000004,\n",
       " -2595.4530000000004,\n",
       " -2040.0169999999998,\n",
       " -419.9440000000001,\n",
       " 5085.668,\n",
       " 5747.385,\n",
       " 2761.4790000000003,\n",
       " 2329.8729999999996,\n",
       " -1567.0550000000012,\n",
       " 461.719999999999,\n",
       " 8140.678000000001]"
      ]
     },
     "execution_count": 156,
     "metadata": {
     },
     "output_type": "execute_result"
    }
   ],
   "source": [
    "profit_after_tax"
   ]
  },
  {
   "cell_type": "code",
   "execution_count": 157,
   "metadata": {
    "collapsed": false
   },
   "outputs": [
   ],
   "source": [
    "import statistics"
   ]
  },
  {
   "cell_type": "code",
   "execution_count": 158,
   "metadata": {
    "collapsed": false
   },
   "outputs": [
   ],
   "source": [
    "mean_profit_after_tax = statistics.mean(profit_after_tax)"
   ]
  },
  {
   "cell_type": "code",
   "execution_count": 159,
   "metadata": {
    "collapsed": false
   },
   "outputs": [
    {
     "data": {
      "text/plain": [
       "1750.6813333333332"
      ]
     },
     "execution_count": 159,
     "metadata": {
     },
     "output_type": "execute_result"
    }
   ],
   "source": [
    "mean_profit_after_tax"
   ]
  },
  {
   "cell_type": "code",
   "execution_count": 160,
   "metadata": {
    "collapsed": false
   },
   "outputs": [
   ],
   "source": [
    "good_months = []"
   ]
  },
  {
   "cell_type": "code",
   "execution_count": 161,
   "metadata": {
    "collapsed": false
   },
   "outputs": [
   ],
   "source": [
    "for o in range(0, len(profit_after_tax)):\n",
    "    if profit_after_tax[o] > mean_profit_after_tax:\n",
    "        good_months.append(True)\n",
    "    else:\n",
    "        good_months.append(False)"
   ]
  },
  {
   "cell_type": "code",
   "execution_count": 162,
   "metadata": {
    "collapsed": false
   },
   "outputs": [
    {
     "data": {
      "text/plain": [
       "[True, False, False, False, False, True, True, True, True, False, False, True]"
      ]
     },
     "execution_count": 162,
     "metadata": {
     },
     "output_type": "execute_result"
    }
   ],
   "source": [
    "good_months"
   ]
  },
  {
   "cell_type": "markdown",
   "metadata": {
    "collapsed": false
   },
   "source": [
    "---\n"
   ]
  },
  {
   "cell_type": "code",
   "execution_count": 163,
   "metadata": {
    "collapsed": false
   },
   "outputs": [
   ],
   "source": [
    "#Bad months"
   ]
  },
  {
   "cell_type": "code",
   "execution_count": 164,
   "metadata": {
    "collapsed": false
   },
   "outputs": [
    {
     "data": {
      "text/plain": [
       "[1765.8690000000001,\n",
       " 1337.9730000000004,\n",
       " -2595.4530000000004,\n",
       " -2040.0169999999998,\n",
       " -419.9440000000001,\n",
       " 5085.668,\n",
       " 5747.385,\n",
       " 2761.4790000000003,\n",
       " 2329.8729999999996,\n",
       " -1567.0550000000012,\n",
       " 461.719999999999,\n",
       " 8140.678000000001]"
      ]
     },
     "execution_count": 164,
     "metadata": {
     },
     "output_type": "execute_result"
    }
   ],
   "source": [
    "profit_after_tax"
   ]
  },
  {
   "cell_type": "code",
   "execution_count": 165,
   "metadata": {
    "collapsed": false
   },
   "outputs": [
   ],
   "source": [
    "import statistics"
   ]
  },
  {
   "cell_type": "code",
   "execution_count": 166,
   "metadata": {
    "collapsed": false
   },
   "outputs": [
   ],
   "source": [
    "mean_profit_after_tax = statistics.mean(profit_after_tax)"
   ]
  },
  {
   "cell_type": "code",
   "execution_count": 167,
   "metadata": {
    "collapsed": false
   },
   "outputs": [
    {
     "data": {
      "text/plain": [
       "1750.6813333333332"
      ]
     },
     "execution_count": 167,
     "metadata": {
     },
     "output_type": "execute_result"
    }
   ],
   "source": [
    "mean_profit_after_tax"
   ]
  },
  {
   "cell_type": "code",
   "execution_count": 168,
   "metadata": {
    "collapsed": false
   },
   "outputs": [
   ],
   "source": [
    "bad_months = []"
   ]
  },
  {
   "cell_type": "code",
   "execution_count": 169,
   "metadata": {
    "collapsed": false
   },
   "outputs": [
   ],
   "source": [
    "for p in range(0, len(profit_after_tax)):\n",
    "    if profit_after_tax[p] < mean_profit_after_tax:\n",
    "        bad_months.append(True)\n",
    "    else:\n",
    "        bad_months.append(False)"
   ]
  },
  {
   "cell_type": "code",
   "execution_count": 170,
   "metadata": {
    "collapsed": false
   },
   "outputs": [
    {
     "data": {
      "text/plain": [
       "[False, True, True, True, True, False, False, False, False, True, True, False]"
      ]
     },
     "execution_count": 170,
     "metadata": {
     },
     "output_type": "execute_result"
    }
   ],
   "source": [
    "bad_months"
   ]
  },
  {
   "cell_type": "markdown",
   "metadata": {
    "collapsed": false
   },
   "source": [
    "---"
   ]
  },
  {
   "cell_type": "code",
   "execution_count": 171,
   "metadata": {
    "collapsed": false
   },
   "outputs": [
   ],
   "source": [
    "#The best month"
   ]
  },
  {
   "cell_type": "code",
   "execution_count": 172,
   "metadata": {
    "collapsed": false
   },
   "outputs": [
    {
     "data": {
      "text/plain": [
       "[1765.8690000000001,\n",
       " 1337.9730000000004,\n",
       " -2595.4530000000004,\n",
       " -2040.0169999999998,\n",
       " -419.9440000000001,\n",
       " 5085.668,\n",
       " 5747.385,\n",
       " 2761.4790000000003,\n",
       " 2329.8729999999996,\n",
       " -1567.0550000000012,\n",
       " 461.719999999999,\n",
       " 8140.678000000001]"
      ]
     },
     "execution_count": 172,
     "metadata": {
     },
     "output_type": "execute_result"
    }
   ],
   "source": [
    "profit_after_tax"
   ]
  },
  {
   "cell_type": "code",
   "execution_count": 173,
   "metadata": {
    "collapsed": false
   },
   "outputs": [
   ],
   "source": [
    "best_month = []"
   ]
  },
  {
   "cell_type": "code",
   "execution_count": 174,
   "metadata": {
    "collapsed": false
   },
   "outputs": [
   ],
   "source": [
    "max_profit_after_tax = max(profit_after_tax)"
   ]
  },
  {
   "cell_type": "code",
   "execution_count": 175,
   "metadata": {
    "collapsed": false
   },
   "outputs": [
    {
     "data": {
      "text/plain": [
       "8140.678000000001"
      ]
     },
     "execution_count": 175,
     "metadata": {
     },
     "output_type": "execute_result"
    }
   ],
   "source": [
    "max_profit_after_tax"
   ]
  },
  {
   "cell_type": "code",
   "execution_count": 176,
   "metadata": {
    "collapsed": false
   },
   "outputs": [
   ],
   "source": [
    "for q in range(0, len(profit_after_tax)):\n",
    "    if profit_after_tax[q] == max_profit_after_tax:\n",
    "        best_month.append(True)\n",
    "    else:\n",
    "        best_month.append(False)"
   ]
  },
  {
   "cell_type": "code",
   "execution_count": 177,
   "metadata": {
    "collapsed": false
   },
   "outputs": [
    {
     "data": {
      "text/plain": [
       "[False,\n",
       " False,\n",
       " False,\n",
       " False,\n",
       " False,\n",
       " False,\n",
       " False,\n",
       " False,\n",
       " False,\n",
       " False,\n",
       " False,\n",
       " True]"
      ]
     },
     "execution_count": 177,
     "metadata": {
     },
     "output_type": "execute_result"
    }
   ],
   "source": [
    "best_month"
   ]
  },
  {
   "cell_type": "markdown",
   "metadata": {
    "collapsed": false
   },
   "source": [
    "---"
   ]
  },
  {
   "cell_type": "code",
   "execution_count": 178,
   "metadata": {
    "collapsed": false
   },
   "outputs": [
   ],
   "source": [
    "#The worst month"
   ]
  },
  {
   "cell_type": "code",
   "execution_count": 179,
   "metadata": {
    "collapsed": false
   },
   "outputs": [
    {
     "data": {
      "text/plain": [
       "[1765.8690000000001,\n",
       " 1337.9730000000004,\n",
       " -2595.4530000000004,\n",
       " -2040.0169999999998,\n",
       " -419.9440000000001,\n",
       " 5085.668,\n",
       " 5747.385,\n",
       " 2761.4790000000003,\n",
       " 2329.8729999999996,\n",
       " -1567.0550000000012,\n",
       " 461.719999999999,\n",
       " 8140.678000000001]"
      ]
     },
     "execution_count": 179,
     "metadata": {
     },
     "output_type": "execute_result"
    }
   ],
   "source": [
    "profit_after_tax"
   ]
  },
  {
   "cell_type": "code",
   "execution_count": 180,
   "metadata": {
    "collapsed": false
   },
   "outputs": [
   ],
   "source": [
    "worst_month = []"
   ]
  },
  {
   "cell_type": "code",
   "execution_count": 181,
   "metadata": {
    "collapsed": false
   },
   "outputs": [
   ],
   "source": [
    "min_profit_after_tax = min(profit_after_tax)"
   ]
  },
  {
   "cell_type": "code",
   "execution_count": 182,
   "metadata": {
    "collapsed": false
   },
   "outputs": [
    {
     "data": {
      "text/plain": [
       "-2595.4530000000004"
      ]
     },
     "execution_count": 182,
     "metadata": {
     },
     "output_type": "execute_result"
    }
   ],
   "source": [
    "min_profit_after_tax"
   ]
  },
  {
   "cell_type": "code",
   "execution_count": 183,
   "metadata": {
    "collapsed": false
   },
   "outputs": [
   ],
   "source": [
    "for r in range(0, len(profit_after_tax)):\n",
    "    if profit_after_tax[r] == min_profit_after_tax:\n",
    "        worst_month.append(True)\n",
    "    else:\n",
    "        worst_month.append(False)"
   ]
  },
  {
   "cell_type": "code",
   "execution_count": 184,
   "metadata": {
    "collapsed": false
   },
   "outputs": [
    {
     "data": {
      "text/plain": [
       "[False,\n",
       " False,\n",
       " True,\n",
       " False,\n",
       " False,\n",
       " False,\n",
       " False,\n",
       " False,\n",
       " False,\n",
       " False,\n",
       " False,\n",
       " False]"
      ]
     },
     "execution_count": 184,
     "metadata": {
     },
     "output_type": "execute_result"
    }
   ],
   "source": [
    "worst_month"
   ]
  }
 ],
 "metadata": {
  "kernelspec": {
   "display_name": "Python 3 (system-wide)",
   "language": "python",
   "metadata": {
    "cocalc": {
     "description": "Python 3 programming language",
     "priority": 100,
     "url": "https://www.python.org/"
    }
   },
   "name": "python3",
   "resource_dir": "/ext/jupyter/kernels/python3"
  },
  "language_info": {
   "codemirror_mode": {
    "name": "ipython",
    "version": 3
   },
   "file_extension": ".py",
   "mimetype": "text/x-python",
   "name": "python",
   "nbconvert_exporter": "python",
   "pygments_lexer": "ipython3",
   "version": "3.8.10"
  }
 },
 "nbformat": 4,
 "nbformat_minor": 4
}